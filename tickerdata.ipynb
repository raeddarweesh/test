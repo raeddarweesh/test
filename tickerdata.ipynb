{
 "cells": [
  {
   "cell_type": "code",
   "execution_count": 1,
   "id": "ca115d80",
   "metadata": {},
   "outputs": [
    {
     "name": "stdout",
     "output_type": "stream",
     "text": [
      "Hi\n"
     ]
    }
   ],
   "source": [
    "print(\"Hi\")"
   ]
  },
  {
   "cell_type": "code",
   "execution_count": 8,
   "id": "7f2aa0f1",
   "metadata": {},
   "outputs": [
    {
     "name": "stdout",
     "output_type": "stream",
     "text": [
      "                  Open        High         Low       Close    Volume\n",
      "Date                                                                \n",
      "2021-08-02  700.000000  726.940002  698.400024  709.669983  33615800\n",
      "2021-08-03  719.000000  722.650024  701.010010  709.739990  21620300\n",
      "2021-08-04  711.000000  724.900024  708.929993  710.919983  17002600\n",
      "2021-08-05  716.000000  720.950012  711.409973  714.630005  12919600\n",
      "2021-08-06  711.900024  716.330017  697.630005  699.099976  15576200\n",
      "2021-08-09  710.169983  719.030029  705.130005  713.760010  14715300\n",
      "2021-08-10  713.989990  716.590027  701.880005  709.989990  13432300\n",
      "2021-08-11  712.710022  715.179993  704.210022  707.820007   9800600\n",
      "2021-08-12  706.340027  722.799988  699.400024  722.250000  17459100\n",
      "2021-08-13  723.710022  729.900024  714.340027  717.169983  16698900\n",
      "2021-08-16  705.070007  709.500000  676.400024  686.169983  22677400\n",
      "2021-08-17  672.659973  674.580017  648.840027  665.710022  23721300\n",
      "2021-08-18  669.750000  695.770020  669.349976  688.989990  20349400\n",
      "2021-08-19  678.210022  686.549988  667.590027  673.469971  14313500\n",
      "2021-08-20  682.849976  692.130005  673.700012  680.260010  14781800\n",
      "2021-08-23  685.440002  712.130005  680.750000  706.299988  20264900\n",
      "2021-08-24  710.679993  715.219971  702.640015  708.489990  13083100\n",
      "2021-08-25  707.030029  716.969971  704.000000  711.200012  12645600\n",
      "2021-08-26  708.309998  715.400024  697.619995  701.159973  13214300\n",
      "2021-08-27  705.000000  715.000000  702.099976  711.919983  13762100\n",
      "2021-08-30  714.719971  731.000000  712.729980  730.909973  18604200\n",
      "2021-08-31  733.000000  740.390015  726.440002  735.719971  20855400\n",
      "2021-09-01  734.080017  741.989990  731.270020  734.090027  13204300\n",
      "2021-09-02  734.500000  740.969971  730.539978  732.390015  12777300\n",
      "2021-09-03  732.250000  734.000000  724.200012  733.570007  15246100\n"
     ]
    }
   ],
   "source": [
    "import yfinance as yf\n",
    "import pandas as pd\n",
    "import datetime \n",
    " \n",
    "#assign Ticker to Python object named tsla\n",
    "tsla = yf.Ticker('tsla')\n",
    " \n",
    "#populate yfinance output with maximum periods for tsla\n",
    "#among the history options are: period, start, end, interval,\n",
    "#prepost, and actions\n",
    " \n",
    "#you can also configure the width and rows returned\n",
    "#for example, these settings return all columns\n",
    "#and up to 20000 rows\n",
    " \n",
    "#three different history examples\n",
    "#tsla_history = tsla.history(period=\"max\")\n",
    "tsla_history = tsla.history(start=\"2021-8-1\", end=\"2021-9-7\",interval=\"1d\", actions = False)\n",
    "#tsla_history = tsla.history(start=\"2021-2-1\", end=\"2021-2-28\",interval=\"30m\",prepost = True, actions = False)\n",
    " \n",
    "pd.options.display.width = 0\n",
    "pd.set_option(\"display.max_rows\",20000)\n",
    " \n",
    "print (tsla_history)"
   ]
  },
  {
   "cell_type": "code",
   "execution_count": null,
   "id": "184d2ffc",
   "metadata": {},
   "outputs": [],
   "source": []
  }
 ],
 "metadata": {
  "kernelspec": {
   "display_name": "Python 3",
   "language": "python",
   "name": "python3"
  },
  "language_info": {
   "codemirror_mode": {
    "name": "ipython",
    "version": 3
   },
   "file_extension": ".py",
   "mimetype": "text/x-python",
   "name": "python",
   "nbconvert_exporter": "python",
   "pygments_lexer": "ipython3",
   "version": "3.6.9"
  }
 },
 "nbformat": 4,
 "nbformat_minor": 5
}
